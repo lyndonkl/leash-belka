{
 "cells": [
  {
   "cell_type": "code",
   "execution_count": 1,
   "id": "84a4538c-6c2c-44a1-bfdc-05ad435959fc",
   "metadata": {},
   "outputs": [
    {
     "name": "stdout",
     "output_type": "stream",
     "text": [
      "\u001b[33mDEPRECATION: Loading egg at /Users/kushaldsouza/miniconda3/envs/dgl/lib/python3.12/site-packages/dgl-2.3-py3.12-macosx-11.0-arm64.egg is deprecated. pip 24.3 will enforce this behaviour change. A possible replacement is to use pip for package installation.. Discussion can be found at https://github.com/pypa/pip/issues/12330\u001b[0m\u001b[33m\n",
      "\u001b[0mLooking in links: https://data.dgl.ai/wheels-test/repo.html\n",
      "Requirement already satisfied: dgl in /Users/kushaldsouza/miniconda3/envs/dgl/lib/python3.12/site-packages/dgl-2.3-py3.12-macosx-11.0-arm64.egg (2.3)\n",
      "Requirement already satisfied: numpy>=1.14.0 in /Users/kushaldsouza/miniconda3/envs/dgl/lib/python3.12/site-packages (from dgl) (1.26.4)\n",
      "Requirement already satisfied: scipy>=1.1.0 in /Users/kushaldsouza/miniconda3/envs/dgl/lib/python3.12/site-packages (from dgl) (1.13.1)\n",
      "Requirement already satisfied: networkx>=2.1 in /Users/kushaldsouza/miniconda3/envs/dgl/lib/python3.12/site-packages (from dgl) (3.2.1)\n",
      "Requirement already satisfied: requests>=2.19.0 in /Users/kushaldsouza/miniconda3/envs/dgl/lib/python3.12/site-packages (from dgl) (2.32.2)\n",
      "Requirement already satisfied: tqdm in /Users/kushaldsouza/miniconda3/envs/dgl/lib/python3.12/site-packages (from dgl) (4.66.4)\n",
      "Requirement already satisfied: psutil>=5.8.0 in /Users/kushaldsouza/miniconda3/envs/dgl/lib/python3.12/site-packages (from dgl) (5.9.0)\n",
      "Requirement already satisfied: torchdata>=0.5.0 in /Users/kushaldsouza/miniconda3/envs/dgl/lib/python3.12/site-packages (from dgl) (0.7.1)\n",
      "Requirement already satisfied: pandas in /Users/kushaldsouza/miniconda3/envs/dgl/lib/python3.12/site-packages (from dgl) (2.2.2)\n",
      "Requirement already satisfied: charset-normalizer<4,>=2 in /Users/kushaldsouza/miniconda3/envs/dgl/lib/python3.12/site-packages (from requests>=2.19.0->dgl) (2.0.4)\n",
      "Requirement already satisfied: idna<4,>=2.5 in /Users/kushaldsouza/miniconda3/envs/dgl/lib/python3.12/site-packages (from requests>=2.19.0->dgl) (3.7)\n",
      "Requirement already satisfied: urllib3<3,>=1.21.1 in /Users/kushaldsouza/miniconda3/envs/dgl/lib/python3.12/site-packages (from requests>=2.19.0->dgl) (2.2.2)\n",
      "Requirement already satisfied: certifi>=2017.4.17 in /Users/kushaldsouza/miniconda3/envs/dgl/lib/python3.12/site-packages (from requests>=2.19.0->dgl) (2024.6.2)\n",
      "Requirement already satisfied: torch>=2 in /Users/kushaldsouza/miniconda3/envs/dgl/lib/python3.12/site-packages (from torchdata>=0.5.0->dgl) (2.3.1)\n",
      "Requirement already satisfied: python-dateutil>=2.8.2 in /Users/kushaldsouza/miniconda3/envs/dgl/lib/python3.12/site-packages (from pandas->dgl) (2.9.0.post0)\n",
      "Requirement already satisfied: pytz>=2020.1 in /Users/kushaldsouza/miniconda3/envs/dgl/lib/python3.12/site-packages (from pandas->dgl) (2024.1)\n",
      "Requirement already satisfied: tzdata>=2022.7 in /Users/kushaldsouza/miniconda3/envs/dgl/lib/python3.12/site-packages (from pandas->dgl) (2023.3)\n",
      "Requirement already satisfied: six>=1.5 in /Users/kushaldsouza/miniconda3/envs/dgl/lib/python3.12/site-packages (from python-dateutil>=2.8.2->pandas->dgl) (1.16.0)\n",
      "Requirement already satisfied: filelock in /Users/kushaldsouza/miniconda3/envs/dgl/lib/python3.12/site-packages (from torch>=2->torchdata>=0.5.0->dgl) (3.13.1)\n",
      "Requirement already satisfied: typing-extensions>=4.8.0 in /Users/kushaldsouza/miniconda3/envs/dgl/lib/python3.12/site-packages (from torch>=2->torchdata>=0.5.0->dgl) (4.11.0)\n",
      "Requirement already satisfied: sympy in /Users/kushaldsouza/miniconda3/envs/dgl/lib/python3.12/site-packages (from torch>=2->torchdata>=0.5.0->dgl) (1.12)\n",
      "Requirement already satisfied: jinja2 in /Users/kushaldsouza/miniconda3/envs/dgl/lib/python3.12/site-packages (from torch>=2->torchdata>=0.5.0->dgl) (3.1.4)\n",
      "Requirement already satisfied: fsspec in /Users/kushaldsouza/miniconda3/envs/dgl/lib/python3.12/site-packages (from torch>=2->torchdata>=0.5.0->dgl) (2024.6.0)\n",
      "Requirement already satisfied: MarkupSafe>=2.0 in /Users/kushaldsouza/miniconda3/envs/dgl/lib/python3.12/site-packages (from jinja2->torch>=2->torchdata>=0.5.0->dgl) (2.1.3)\n",
      "Requirement already satisfied: mpmath>=0.19 in /Users/kushaldsouza/miniconda3/envs/dgl/lib/python3.12/site-packages (from sympy->torch>=2->torchdata>=0.5.0->dgl) (1.3.0)\n",
      "DGL installed!\n"
     ]
    }
   ],
   "source": [
    "# Install required packages.\n",
    "import os\n",
    "import torch\n",
    "import numpy as np\n",
    "os.environ['TORCH'] = torch.__version__\n",
    "os.environ['DGLBACKEND'] = \"pytorch\"\n",
    "\n",
    "# Install the CPU version.\n",
    "device = torch.device(\"cpu\")\n",
    "!pip install --pre dgl -f https://data.dgl.ai/wheels-test/repo.html\n",
    "\n",
    "try:\n",
    "    import dgl\n",
    "    import dgl.graphbolt as gb\n",
    "    installed = True\n",
    "except ImportError as error:\n",
    "    installed = False\n",
    "    print(error)\n",
    "print(\"DGL installed!\" if installed else \"DGL not found!\")"
   ]
  },
  {
   "cell_type": "code",
   "execution_count": 2,
   "id": "a6b8697f-32da-4821-8ce7-953d5a086898",
   "metadata": {},
   "outputs": [
    {
     "name": "stdout",
     "output_type": "stream",
     "text": [
      "Created base directory: ./ondisk_dataset_heterograph\n"
     ]
    }
   ],
   "source": [
    "base_dir = './ondisk_dataset_heterograph'\n",
    "os.makedirs(base_dir, exist_ok=True)\n",
    "print(f\"Created base directory: {base_dir}\")"
   ]
  },
  {
   "cell_type": "code",
   "execution_count": 3,
   "id": "fea0753b-5cc2-4705-b0c1-404b7e66d70b",
   "metadata": {},
   "outputs": [
    {
     "name": "stdout",
     "output_type": "stream",
     "text": [
      "Part of [user:like:item] edges: [[707 170]\n",
      " [614 564]\n",
      " [514 914]\n",
      " [123  60]\n",
      " [ 67  26]]\n",
      "\n",
      "[user:like:item] edges are saved into ./ondisk_dataset_heterograph/like-edges.csv\n",
      "\n",
      "Part of [user:follow:user] edges: [[108 920]\n",
      " [868 960]\n",
      " [ 47 320]\n",
      " [588 646]\n",
      " [893 254]]\n",
      "\n",
      "[user:follow:user] edges are saved into ./ondisk_dataset_heterograph/follow-edges.csv\n",
      "\n"
     ]
    }
   ],
   "source": [
    "import numpy as np\n",
    "import pandas as pd\n",
    "\n",
    "# For simplicity, we create a heterogeneous graph with\n",
    "# 2 node types: `user`, `item`\n",
    "# 2 edge types: `user:like:item`, `user:follow:user`\n",
    "# And each node/edge type has the same number of nodes/edges.\n",
    "num_nodes = 1000\n",
    "num_edges = 10 * num_nodes\n",
    "\n",
    "# Edge type: \"user:like:item\"\n",
    "like_edges_path = os.path.join(base_dir, \"like-edges.csv\")\n",
    "like_edges = np.random.randint(0, num_nodes, size=(num_edges, 2), dtype=np.int32)\n",
    "print(f\"Part of [user:like:item] edges: {like_edges[:5, :]}\\n\")\n",
    "\n",
    "df = pd.DataFrame(like_edges)\n",
    "df.to_csv(like_edges_path, index=False, header=False)\n",
    "print(f\"[user:like:item] edges are saved into {like_edges_path}\\n\")\n",
    "\n",
    "# Edge type: \"user:follow:user\"\n",
    "follow_edges_path = os.path.join(base_dir, \"follow-edges.csv\")\n",
    "follow_edges = np.random.randint(0, num_nodes, size=(num_edges, 2), dtype=np.int32)\n",
    "print(f\"Part of [user:follow:user] edges: {follow_edges[:5, :]}\\n\")\n",
    "\n",
    "df = pd.DataFrame(follow_edges)\n",
    "df.to_csv(follow_edges_path, index=False, header=False)\n",
    "print(f\"[user:follow:user] edges are saved into {follow_edges_path}\\n\")"
   ]
  },
  {
   "cell_type": "code",
   "execution_count": 4,
   "id": "83fdce61-ddf1-4a32-a4e2-622a0f5516fd",
   "metadata": {},
   "outputs": [
    {
     "name": "stdout",
     "output_type": "stream",
     "text": [
      "Part of node[user] feature [feat_0]: [[0.57092506 0.10825544 0.20711292 0.10143901 0.21266508]\n",
      " [0.41212746 0.07993924 0.56151127 0.39376572 0.74892435]\n",
      " [0.24510754 0.11330935 0.99739147 0.84641067 0.64607123]]\n",
      "Node[user] feature [feat_0] is saved to ./ondisk_dataset_heterograph/node-user-feat-0.npy\n",
      "\n",
      "Part of node[user] feature [feat_1]: tensor([[0.0602, 0.5338, 0.3941, 0.7655, 0.6784],\n",
      "        [0.5228, 0.7884, 0.1449, 0.5727, 0.9401],\n",
      "        [0.2180, 0.7978, 0.5308, 0.9276, 0.8153]])\n",
      "Node[user] feature [feat_1] is saved to ./ondisk_dataset_heterograph/node-user-feat-1.pt\n",
      "\n",
      "Part of node[item] feature [feat_0]: [[0.72391364 0.5313694  0.02139435 0.71943807 0.32351023]\n",
      " [0.60507041 0.0982607  0.98794344 0.82759357 0.47551857]\n",
      " [0.0628069  0.80526314 0.87943115 0.97145407 0.95838395]]\n",
      "Node[item] feature [feat_0] is saved to ./ondisk_dataset_heterograph/node-item-feat-0.npy\n",
      "\n",
      "Part of node[item] feature [feat_1]: tensor([[0.5728, 0.7867, 0.9580, 0.5888, 0.0401],\n",
      "        [0.7069, 0.6441, 0.3007, 0.8132, 0.5076],\n",
      "        [0.1439, 0.6301, 0.9847, 0.0319, 0.1128]])\n",
      "Node[item] feature [feat_1] is saved to ./ondisk_dataset_heterograph/node-item-feat-1.pt\n",
      "\n",
      "Part of edge[user:like:item] feature [feat_0]: [[0.62875086 0.40950338 0.61852357 0.09880411 0.7380829 ]\n",
      " [0.88953537 0.99419829 0.11555487 0.09025332 0.85722743]\n",
      " [0.47152048 0.49437229 0.12313351 0.46598314 0.22840781]]\n",
      "Edge[user:like:item] feature [feat_0] is saved to ./ondisk_dataset_heterograph/edge-like-feat-0.npy\n",
      "\n",
      "Part of edge[user:like:item] feature [feat_1]: tensor([[0.2897, 0.8640, 0.9054, 0.5775, 0.8567],\n",
      "        [0.7175, 0.2476, 0.0432, 0.6749, 0.9670],\n",
      "        [0.5970, 0.3808, 0.1036, 0.5325, 0.9789]])\n",
      "Edge[user:like:item] feature [feat_1] is saved to ./ondisk_dataset_heterograph/edge-like-feat-1.pt\n",
      "\n",
      "Part of edge[user:follow:user] feature [feat_0]: [[0.20436168 0.42063682 0.59010595 0.88137844 0.0164672 ]\n",
      " [0.42574011 0.11711149 0.26541398 0.08179208 0.64561869]\n",
      " [0.47665255 0.61146251 0.97692324 0.78443443 0.0219703 ]]\n",
      "Edge[user:follow:user] feature [feat_0] is saved to ./ondisk_dataset_heterograph/edge-follow-feat-0.npy\n",
      "\n",
      "Part of edge[user:follow:user] feature [feat_1]: tensor([[0.4677, 0.9286, 0.2853, 0.5793, 0.9583],\n",
      "        [0.9836, 0.7775, 0.0267, 0.6515, 0.3572],\n",
      "        [0.7993, 0.0617, 0.8824, 0.2450, 0.1900]])\n",
      "Edge[user:follow:user] feature [feat_1] is saved to ./ondisk_dataset_heterograph/edge-follow-feat-1.pt\n",
      "\n"
     ]
    }
   ],
   "source": [
    "# Generate node[user] feature in numpy array.\n",
    "node_user_feat_0_path = os.path.join(base_dir, \"node-user-feat-0.npy\")\n",
    "node_user_feat_0 = np.random.rand(num_nodes, 5)\n",
    "print(f\"Part of node[user] feature [feat_0]: {node_user_feat_0[:3, :]}\")\n",
    "np.save(node_user_feat_0_path, node_user_feat_0)\n",
    "print(f\"Node[user] feature [feat_0] is saved to {node_user_feat_0_path}\\n\")\n",
    "\n",
    "# Generate another node[user] feature in torch tensor\n",
    "node_user_feat_1_path = os.path.join(base_dir, \"node-user-feat-1.pt\")\n",
    "node_user_feat_1 = torch.rand(num_nodes, 5, dtype=torch.float32)\n",
    "print(f\"Part of node[user] feature [feat_1]: {node_user_feat_1[:3, :]}\")\n",
    "torch.save(node_user_feat_1, node_user_feat_1_path)\n",
    "print(f\"Node[user] feature [feat_1] is saved to {node_user_feat_1_path}\\n\")\n",
    "\n",
    "# Generate node[item] feature in numpy array.\n",
    "node_item_feat_0_path = os.path.join(base_dir, \"node-item-feat-0.npy\")\n",
    "node_item_feat_0 = np.random.rand(num_nodes, 5)\n",
    "print(f\"Part of node[item] feature [feat_0]: {node_item_feat_0[:3, :]}\")\n",
    "np.save(node_item_feat_0_path, node_item_feat_0)\n",
    "print(f\"Node[item] feature [feat_0] is saved to {node_item_feat_0_path}\\n\")\n",
    "\n",
    "# Generate another node[item] feature in torch tensor\n",
    "node_item_feat_1_path = os.path.join(base_dir, \"node-item-feat-1.pt\")\n",
    "node_item_feat_1 = torch.rand(num_nodes, 5, dtype=torch.float32)\n",
    "print(f\"Part of node[item] feature [feat_1]: {node_item_feat_1[:3, :]}\")\n",
    "torch.save(node_item_feat_1, node_item_feat_1_path)\n",
    "print(f\"Node[item] feature [feat_1] is saved to {node_item_feat_1_path}\\n\")\n",
    "\n",
    "# Generate edge[user:like:item] feature in numpy array.\n",
    "edge_like_feat_0_path = os.path.join(base_dir, \"edge-like-feat-0.npy\")\n",
    "edge_like_feat_0 = np.random.rand(num_edges, 5)\n",
    "print(f\"Part of edge[user:like:item] feature [feat_0]: {edge_like_feat_0[:3, :]}\")\n",
    "np.save(edge_like_feat_0_path, edge_like_feat_0)\n",
    "print(f\"Edge[user:like:item] feature [feat_0] is saved to {edge_like_feat_0_path}\\n\")\n",
    "\n",
    "# Generate another edge[user:like:item] feature in torch tensor\n",
    "edge_like_feat_1_path = os.path.join(base_dir, \"edge-like-feat-1.pt\")\n",
    "edge_like_feat_1 = torch.rand(num_edges, 5, dtype=torch.float32)\n",
    "print(f\"Part of edge[user:like:item] feature [feat_1]: {edge_like_feat_1[:3, :]}\")\n",
    "torch.save(edge_like_feat_1, edge_like_feat_1_path)\n",
    "print(f\"Edge[user:like:item] feature [feat_1] is saved to {edge_like_feat_1_path}\\n\")\n",
    "\n",
    "# Generate edge[user:follow:user] feature in numpy array.\n",
    "edge_follow_feat_0_path = os.path.join(base_dir, \"edge-follow-feat-0.npy\")\n",
    "edge_follow_feat_0 = np.random.rand(num_edges, 5)\n",
    "print(f\"Part of edge[user:follow:user] feature [feat_0]: {edge_follow_feat_0[:3, :]}\")\n",
    "np.save(edge_follow_feat_0_path, edge_follow_feat_0)\n",
    "print(f\"Edge[user:follow:user] feature [feat_0] is saved to {edge_follow_feat_0_path}\\n\")\n",
    "\n",
    "# Generate another edge[user:follow:user] feature in torch tensor\n",
    "edge_follow_feat_1_path = os.path.join(base_dir, \"edge-follow-feat-1.pt\")\n",
    "edge_follow_feat_1 = torch.rand(num_edges, 5, dtype=torch.float32)\n",
    "print(f\"Part of edge[user:follow:user] feature [feat_1]: {edge_follow_feat_1[:3, :]}\")\n",
    "torch.save(edge_follow_feat_1, edge_follow_feat_1_path)\n",
    "print(f\"Edge[user:follow:user] feature [feat_1] is saved to {edge_follow_feat_1_path}\\n\")"
   ]
  },
  {
   "cell_type": "code",
   "execution_count": 5,
   "id": "a91bc9a4-f07c-44f3-ac66-fc5286e44bbd",
   "metadata": {},
   "outputs": [
    {
     "name": "stdout",
     "output_type": "stream",
     "text": [
      "Part of train ids[user] for node classification: [ 98 664 263]\n",
      "NC train ids[user] are saved to ./ondisk_dataset_heterograph/nc-train-user-ids.npy\n",
      "\n",
      "Part of train labels[user] for node classification: tensor([6, 3, 0], dtype=torch.int32)\n",
      "NC train labels[user] are saved to ./ondisk_dataset_heterograph/nc-train-user-labels.pt\n",
      "\n",
      "Part of train ids[item] for node classification: [940 268 474]\n",
      "NC train ids[item] are saved to ./ondisk_dataset_heterograph/nc-train-item-ids.npy\n",
      "\n",
      "Part of train labels[item] for node classification: tensor([3, 5, 9], dtype=torch.int32)\n",
      "NC train labels[item] are saved to ./ondisk_dataset_heterograph/nc-train-item-labels.pt\n",
      "\n",
      "Part of val ids[user] for node classification: [116 974  34]\n",
      "NC val ids[user] are saved to ./ondisk_dataset_heterograph/nc-val-user-ids.npy\n",
      "\n",
      "Part of val labels[user] for node classification: tensor([1, 0, 4], dtype=torch.int32)\n",
      "NC val labels[user] are saved to ./ondisk_dataset_heterograph/nc-val-user-labels.pt\n",
      "\n",
      "Part of val ids[item] for node classification: [ 37 441 920]\n",
      "NC val ids[item] are saved to ./ondisk_dataset_heterograph/nc-val-item-ids.npy\n",
      "\n",
      "Part of val labels[item] for node classification: tensor([2, 6, 9], dtype=torch.int32)\n",
      "NC val labels[item] are saved to ./ondisk_dataset_heterograph/nc-val-item-labels.pt\n",
      "\n",
      "Part of test ids[user] for node classification: [ 75 690 848]\n",
      "NC test ids[user] are saved to ./ondisk_dataset_heterograph/nc-test-user-ids.npy\n",
      "\n",
      "Part of test labels[user] for node classification: tensor([0, 3, 5], dtype=torch.int32)\n",
      "NC test labels[user] are saved to ./ondisk_dataset_heterograph/nc-test-user-labels.pt\n",
      "\n",
      "Part of test ids[item] for node classification: [ 31 596 646]\n",
      "NC test ids[item] are saved to ./ondisk_dataset_heterograph/nc-test-item-ids.npy\n",
      "\n",
      "Part of test labels[item] for node classification: tensor([0, 5, 3], dtype=torch.int32)\n",
      "NC test labels[item] are saved to ./ondisk_dataset_heterograph/nc-test-item-labels.pt\n",
      "\n"
     ]
    }
   ],
   "source": [
    "# For illustration, let's generate item sets for each node type.\n",
    "num_trains = int(num_nodes * 0.6)\n",
    "num_vals = int(num_nodes * 0.2)\n",
    "num_tests = num_nodes - num_trains - num_vals\n",
    "\n",
    "user_ids = np.arange(num_nodes)\n",
    "np.random.shuffle(user_ids)\n",
    "\n",
    "item_ids = np.arange(num_nodes)\n",
    "np.random.shuffle(item_ids)\n",
    "\n",
    "# Train IDs for user.\n",
    "nc_train_user_ids_path = os.path.join(base_dir, \"nc-train-user-ids.npy\")\n",
    "nc_train_user_ids = user_ids[:num_trains]\n",
    "print(f\"Part of train ids[user] for node classification: {nc_train_user_ids[:3]}\")\n",
    "np.save(nc_train_user_ids_path, nc_train_user_ids)\n",
    "print(f\"NC train ids[user] are saved to {nc_train_user_ids_path}\\n\")\n",
    "\n",
    "# Train labels for user.\n",
    "nc_train_user_labels_path = os.path.join(base_dir, \"nc-train-user-labels.pt\")\n",
    "nc_train_user_labels = torch.randint(0, 10, (num_trains,), dtype=torch.int32)\n",
    "print(f\"Part of train labels[user] for node classification: {nc_train_user_labels[:3]}\")\n",
    "torch.save(nc_train_user_labels, nc_train_user_labels_path)\n",
    "print(f\"NC train labels[user] are saved to {nc_train_user_labels_path}\\n\")\n",
    "\n",
    "# Train IDs for item.\n",
    "nc_train_item_ids_path = os.path.join(base_dir, \"nc-train-item-ids.npy\")\n",
    "nc_train_item_ids = item_ids[:num_trains]\n",
    "print(f\"Part of train ids[item] for node classification: {nc_train_item_ids[:3]}\")\n",
    "np.save(nc_train_item_ids_path, nc_train_item_ids)\n",
    "print(f\"NC train ids[item] are saved to {nc_train_item_ids_path}\\n\")\n",
    "\n",
    "# Train labels for item.\n",
    "nc_train_item_labels_path = os.path.join(base_dir, \"nc-train-item-labels.pt\")\n",
    "nc_train_item_labels = torch.randint(0, 10, (num_trains,), dtype=torch.int32)\n",
    "print(f\"Part of train labels[item] for node classification: {nc_train_item_labels[:3]}\")\n",
    "torch.save(nc_train_item_labels, nc_train_item_labels_path)\n",
    "print(f\"NC train labels[item] are saved to {nc_train_item_labels_path}\\n\")\n",
    "\n",
    "# Val IDs for user.\n",
    "nc_val_user_ids_path = os.path.join(base_dir, \"nc-val-user-ids.npy\")\n",
    "nc_val_user_ids = user_ids[num_trains:num_trains+num_vals]\n",
    "print(f\"Part of val ids[user] for node classification: {nc_val_user_ids[:3]}\")\n",
    "np.save(nc_val_user_ids_path, nc_val_user_ids)\n",
    "print(f\"NC val ids[user] are saved to {nc_val_user_ids_path}\\n\")\n",
    "\n",
    "# Val labels for user.\n",
    "nc_val_user_labels_path = os.path.join(base_dir, \"nc-val-user-labels.pt\")\n",
    "nc_val_user_labels = torch.randint(0, 10, (num_vals,), dtype=torch.int32)\n",
    "print(f\"Part of val labels[user] for node classification: {nc_val_user_labels[:3]}\")\n",
    "torch.save(nc_val_user_labels, nc_val_user_labels_path)\n",
    "print(f\"NC val labels[user] are saved to {nc_val_user_labels_path}\\n\")\n",
    "\n",
    "# Val IDs for item.\n",
    "nc_val_item_ids_path = os.path.join(base_dir, \"nc-val-item-ids.npy\")\n",
    "nc_val_item_ids = item_ids[num_trains:num_trains+num_vals]\n",
    "print(f\"Part of val ids[item] for node classification: {nc_val_item_ids[:3]}\")\n",
    "np.save(nc_val_item_ids_path, nc_val_item_ids)\n",
    "print(f\"NC val ids[item] are saved to {nc_val_item_ids_path}\\n\")\n",
    "\n",
    "# Val labels for item.\n",
    "nc_val_item_labels_path = os.path.join(base_dir, \"nc-val-item-labels.pt\")\n",
    "nc_val_item_labels = torch.randint(0, 10, (num_vals,), dtype=torch.int32)\n",
    "print(f\"Part of val labels[item] for node classification: {nc_val_item_labels[:3]}\")\n",
    "torch.save(nc_val_item_labels, nc_val_item_labels_path)\n",
    "print(f\"NC val labels[item] are saved to {nc_val_item_labels_path}\\n\")\n",
    "\n",
    "# Test IDs for user.\n",
    "nc_test_user_ids_path = os.path.join(base_dir, \"nc-test-user-ids.npy\")\n",
    "nc_test_user_ids = user_ids[-num_tests:]\n",
    "print(f\"Part of test ids[user] for node classification: {nc_test_user_ids[:3]}\")\n",
    "np.save(nc_test_user_ids_path, nc_test_user_ids)\n",
    "print(f\"NC test ids[user] are saved to {nc_test_user_ids_path}\\n\")\n",
    "\n",
    "# Test labels for user.\n",
    "nc_test_user_labels_path = os.path.join(base_dir, \"nc-test-user-labels.pt\")\n",
    "nc_test_user_labels = torch.randint(0, 10, (num_tests,), dtype=torch.int32)\n",
    "print(f\"Part of test labels[user] for node classification: {nc_test_user_labels[:3]}\")\n",
    "torch.save(nc_test_user_labels, nc_test_user_labels_path)\n",
    "print(f\"NC test labels[user] are saved to {nc_test_user_labels_path}\\n\")\n",
    "\n",
    "# Test IDs for item.\n",
    "nc_test_item_ids_path = os.path.join(base_dir, \"nc-test-item-ids.npy\")\n",
    "nc_test_item_ids = item_ids[-num_tests:]\n",
    "print(f\"Part of test ids[item] for node classification: {nc_test_item_ids[:3]}\")\n",
    "np.save(nc_test_item_ids_path, nc_test_item_ids)\n",
    "print(f\"NC test ids[item] are saved to {nc_test_item_ids_path}\\n\")\n",
    "\n",
    "# Test labels for item.\n",
    "nc_test_item_labels_path = os.path.join(base_dir, \"nc-test-item-labels.pt\")\n",
    "nc_test_item_labels = torch.randint(0, 10, (num_tests,), dtype=torch.int32)\n",
    "print(f\"Part of test labels[item] for node classification: {nc_test_item_labels[:3]}\")\n",
    "torch.save(nc_test_item_labels, nc_test_item_labels_path)\n",
    "print(f\"NC test labels[item] are saved to {nc_test_item_labels_path}\\n\")"
   ]
  },
  {
   "cell_type": "code",
   "execution_count": 6,
   "id": "1321bb2a-aa4a-45f9-8c6e-448d4ea818e2",
   "metadata": {},
   "outputs": [
    {
     "name": "stdout",
     "output_type": "stream",
     "text": [
      "Part of train node pairs[user:like:item] for link prediction: [[707 170]\n",
      " [614 564]\n",
      " [514 914]]\n",
      "LP train node pairs[user:like:item] are saved to ./ondisk_dataset_heterograph/lp-train-like-node-pairs.npy\n",
      "\n",
      "Part of train node pairs[user:follow:user] for link prediction: [[108 920]\n",
      " [868 960]\n",
      " [ 47 320]]\n",
      "LP train node pairs[user:follow:user] are saved to ./ondisk_dataset_heterograph/lp-train-follow-node-pairs.npy\n",
      "\n",
      "Part of val node pairs[user:like:item] for link prediction: [[881 188]\n",
      " [552 518]\n",
      " [206 929]]\n",
      "LP val node pairs[user:like:item] are saved to ./ondisk_dataset_heterograph/lp-val-like-node-pairs.npy\n",
      "\n",
      "Part of val negative dsts[user:like:item] for link prediction: tensor([[758, 911, 597, 192, 221, 547, 495, 159, 719, 710],\n",
      "        [ 65, 279, 870, 578, 602, 597, 358, 972, 535, 256],\n",
      "        [785, 866, 650, 562, 389, 596, 232, 672, 224, 798]], dtype=torch.int32)\n",
      "LP val negative dsts[user:like:item] are saved to ./ondisk_dataset_heterograph/lp-val-like-neg-dsts.pt\n",
      "\n",
      "Part of val node pairs[user:follow:user] for link prediction: [[602 106]\n",
      " [709 654]\n",
      " [423 521]]\n",
      "LP val node pairs[user:follow:user] are saved to ./ondisk_dataset_heterograph/lp-val-follow-node-pairs.npy\n",
      "\n",
      "Part of val negative dsts[user:follow:user] for link prediction: tensor([[818, 668, 766, 715, 985, 212, 280, 356, 584, 775],\n",
      "        [562, 830,  30, 136, 308, 293, 429, 203, 889, 829],\n",
      "        [932, 850, 687, 738, 682, 522, 378, 440, 374,  25]], dtype=torch.int32)\n",
      "LP val negative dsts[user:follow:user] are saved to ./ondisk_dataset_heterograph/lp-val-follow-neg-dsts.pt\n",
      "\n",
      "Part of test node pairs[user:like:item] for link prediction: [908 994]\n",
      "LP test node pairs[user:like:item] are saved to ./ondisk_dataset_heterograph/lp-test-like-node-pairs.npy\n",
      "\n",
      "Part of test negative dsts[user:like:item] for link prediction: tensor([[449, 341, 218, 392, 810, 713, 940,  64, 992, 692],\n",
      "        [525, 213, 658, 566, 480, 941, 703,  71, 703, 925],\n",
      "        [346, 123, 563, 459, 404, 206, 882, 676, 148, 267]], dtype=torch.int32)\n",
      "LP test negative dsts[user:like:item] are saved to ./ondisk_dataset_heterograph/lp-test-like-neg-dsts.pt\n",
      "\n",
      "Part of test node pairs[user:follow:user] for link prediction: [ 85 916]\n",
      "LP test node pairs[user:follow:user] are saved to ./ondisk_dataset_heterograph/lp-test-follow-node-pairs.npy\n",
      "\n",
      "Part of test negative dsts[user:follow:user] for link prediction: tensor([[433, 389, 441, 899, 381, 896, 893, 399, 469, 785],\n",
      "        [707, 113, 596, 593, 398, 277, 728, 748, 448, 138],\n",
      "        [491, 166, 284, 334, 559, 180, 316, 526, 908, 969]], dtype=torch.int32)\n",
      "LP test negative dsts[user:follow:user] are saved to ./ondisk_dataset_heterograph/lp-test-follow-neg-dsts.pt\n",
      "\n"
     ]
    }
   ],
   "source": [
    "# For illustration, let's generate item sets for each edge type.\n",
    "num_trains = int(num_edges * 0.6)\n",
    "num_vals = int(num_edges * 0.2)\n",
    "num_tests = num_edges - num_trains - num_vals\n",
    "\n",
    "# Train node pairs for user:like:item.\n",
    "lp_train_like_node_pairs_path = os.path.join(base_dir, \"lp-train-like-node-pairs.npy\")\n",
    "lp_train_like_node_pairs = like_edges[:num_trains, :]\n",
    "print(f\"Part of train node pairs[user:like:item] for link prediction: {lp_train_like_node_pairs[:3]}\")\n",
    "np.save(lp_train_like_node_pairs_path, lp_train_like_node_pairs)\n",
    "print(f\"LP train node pairs[user:like:item] are saved to {lp_train_like_node_pairs_path}\\n\")\n",
    "\n",
    "# Train node pairs for user:follow:user.\n",
    "lp_train_follow_node_pairs_path = os.path.join(base_dir, \"lp-train-follow-node-pairs.npy\")\n",
    "lp_train_follow_node_pairs = follow_edges[:num_trains, :]\n",
    "print(f\"Part of train node pairs[user:follow:user] for link prediction: {lp_train_follow_node_pairs[:3]}\")\n",
    "np.save(lp_train_follow_node_pairs_path, lp_train_follow_node_pairs)\n",
    "print(f\"LP train node pairs[user:follow:user] are saved to {lp_train_follow_node_pairs_path}\\n\")\n",
    "\n",
    "# Val node pairs for user:like:item.\n",
    "lp_val_like_node_pairs_path = os.path.join(base_dir, \"lp-val-like-node-pairs.npy\")\n",
    "lp_val_like_node_pairs = like_edges[num_trains:num_trains+num_vals, :]\n",
    "print(f\"Part of val node pairs[user:like:item] for link prediction: {lp_val_like_node_pairs[:3]}\")\n",
    "np.save(lp_val_like_node_pairs_path, lp_val_like_node_pairs)\n",
    "print(f\"LP val node pairs[user:like:item] are saved to {lp_val_like_node_pairs_path}\\n\")\n",
    "\n",
    "# Val negative dsts for user:like:item.\n",
    "lp_val_like_neg_dsts_path = os.path.join(base_dir, \"lp-val-like-neg-dsts.pt\")\n",
    "lp_val_like_neg_dsts = torch.randint(0, num_nodes, (num_vals, 10), dtype=torch.int32)\n",
    "print(f\"Part of val negative dsts[user:like:item] for link prediction: {lp_val_like_neg_dsts[:3]}\")\n",
    "torch.save(lp_val_like_neg_dsts, lp_val_like_neg_dsts_path)\n",
    "print(f\"LP val negative dsts[user:like:item] are saved to {lp_val_like_neg_dsts_path}\\n\")\n",
    "\n",
    "# Val node pairs for user:follow:user.\n",
    "lp_val_follow_node_pairs_path = os.path.join(base_dir, \"lp-val-follow-node-pairs.npy\")\n",
    "lp_val_follow_node_pairs = follow_edges[num_trains:num_trains+num_vals, :]\n",
    "print(f\"Part of val node pairs[user:follow:user] for link prediction: {lp_val_follow_node_pairs[:3]}\")\n",
    "np.save(lp_val_follow_node_pairs_path, lp_val_follow_node_pairs)\n",
    "print(f\"LP val node pairs[user:follow:user] are saved to {lp_val_follow_node_pairs_path}\\n\")\n",
    "\n",
    "# Val negative dsts for user:follow:user.\n",
    "lp_val_follow_neg_dsts_path = os.path.join(base_dir, \"lp-val-follow-neg-dsts.pt\")\n",
    "lp_val_follow_neg_dsts = torch.randint(0, num_nodes, (num_vals, 10), dtype=torch.int32)\n",
    "print(f\"Part of val negative dsts[user:follow:user] for link prediction: {lp_val_follow_neg_dsts[:3]}\")\n",
    "torch.save(lp_val_follow_neg_dsts, lp_val_follow_neg_dsts_path)\n",
    "print(f\"LP val negative dsts[user:follow:user] are saved to {lp_val_follow_neg_dsts_path}\\n\")\n",
    "\n",
    "# Test node paris for user:like:item.\n",
    "lp_test_like_node_pairs_path = os.path.join(base_dir, \"lp-test-like-node-pairs.npy\")\n",
    "lp_test_like_node_pairs = like_edges[-num_tests, :]\n",
    "print(f\"Part of test node pairs[user:like:item] for link prediction: {lp_test_like_node_pairs[:3]}\")\n",
    "np.save(lp_test_like_node_pairs_path, lp_test_like_node_pairs)\n",
    "print(f\"LP test node pairs[user:like:item] are saved to {lp_test_like_node_pairs_path}\\n\")\n",
    "\n",
    "# Test negative dsts for user:like:item.\n",
    "lp_test_like_neg_dsts_path = os.path.join(base_dir, \"lp-test-like-neg-dsts.pt\")\n",
    "lp_test_like_neg_dsts = torch.randint(0, num_nodes, (num_tests, 10), dtype=torch.int32)\n",
    "print(f\"Part of test negative dsts[user:like:item] for link prediction: {lp_test_like_neg_dsts[:3]}\")\n",
    "torch.save(lp_test_like_neg_dsts, lp_test_like_neg_dsts_path)\n",
    "print(f\"LP test negative dsts[user:like:item] are saved to {lp_test_like_neg_dsts_path}\\n\")\n",
    "\n",
    "# Test node paris for user:follow:user.\n",
    "lp_test_follow_node_pairs_path = os.path.join(base_dir, \"lp-test-follow-node-pairs.npy\")\n",
    "lp_test_follow_node_pairs = follow_edges[-num_tests, :]\n",
    "print(f\"Part of test node pairs[user:follow:user] for link prediction: {lp_test_follow_node_pairs[:3]}\")\n",
    "np.save(lp_test_follow_node_pairs_path, lp_test_follow_node_pairs)\n",
    "print(f\"LP test node pairs[user:follow:user] are saved to {lp_test_follow_node_pairs_path}\\n\")\n",
    "\n",
    "# Test negative dsts for user:follow:user.\n",
    "lp_test_follow_neg_dsts_path = os.path.join(base_dir, \"lp-test-follow-neg-dsts.pt\")\n",
    "lp_test_follow_neg_dsts = torch.randint(0, num_nodes, (num_tests, 10), dtype=torch.int32)\n",
    "print(f\"Part of test negative dsts[user:follow:user] for link prediction: {lp_test_follow_neg_dsts[:3]}\")\n",
    "torch.save(lp_test_follow_neg_dsts, lp_test_follow_neg_dsts_path)\n",
    "print(f\"LP test negative dsts[user:follow:user] are saved to {lp_test_follow_neg_dsts_path}\\n\")"
   ]
  },
  {
   "cell_type": "code",
   "execution_count": 7,
   "id": "0c5d79d7-0803-4b79-bb65-08341ebea86b",
   "metadata": {},
   "outputs": [],
   "source": [
    "yaml_content = f\"\"\"\n",
    "    dataset_name: heterogeneous_graph_nc_lp\n",
    "    graph:\n",
    "      nodes:\n",
    "        - type: user\n",
    "          num: {num_nodes}\n",
    "        - type: item\n",
    "          num: {num_nodes}\n",
    "      edges:\n",
    "        - type: \"user:like:item\"\n",
    "          format: csv\n",
    "          path: {os.path.basename(like_edges_path)}\n",
    "        - type: \"user:follow:user\"\n",
    "          format: csv\n",
    "          path: {os.path.basename(follow_edges_path)}\n",
    "    feature_data:\n",
    "      - domain: node\n",
    "        type: user\n",
    "        name: feat_0\n",
    "        format: numpy\n",
    "        path: {os.path.basename(node_user_feat_0_path)}\n",
    "      - domain: node\n",
    "        type: user\n",
    "        name: feat_1\n",
    "        format: torch\n",
    "        path: {os.path.basename(node_user_feat_1_path)}\n",
    "      - domain: node\n",
    "        type: item\n",
    "        name: feat_0\n",
    "        format: numpy\n",
    "        path: {os.path.basename(node_item_feat_0_path)}\n",
    "      - domain: node\n",
    "        type: item\n",
    "        name: feat_1\n",
    "        format: torch\n",
    "        path: {os.path.basename(node_item_feat_1_path)}\n",
    "      - domain: edge\n",
    "        type: \"user:like:item\"\n",
    "        name: feat_0\n",
    "        format: numpy\n",
    "        path: {os.path.basename(edge_like_feat_0_path)}\n",
    "      - domain: edge\n",
    "        type: \"user:like:item\"\n",
    "        name: feat_1\n",
    "        format: torch\n",
    "        path: {os.path.basename(edge_like_feat_1_path)}\n",
    "      - domain: edge\n",
    "        type: \"user:follow:user\"\n",
    "        name: feat_0\n",
    "        format: numpy\n",
    "        path: {os.path.basename(edge_follow_feat_0_path)}\n",
    "      - domain: edge\n",
    "        type: \"user:follow:user\"\n",
    "        name: feat_1\n",
    "        format: torch\n",
    "        path: {os.path.basename(edge_follow_feat_1_path)}\n",
    "    tasks:\n",
    "      - name: node_classification\n",
    "        num_classes: 10\n",
    "        train_set:\n",
    "          - type: user\n",
    "            data:\n",
    "              - name: seed_nodes\n",
    "                format: numpy\n",
    "                path: {os.path.basename(nc_train_user_ids_path)}\n",
    "              - name: labels\n",
    "                format: torch\n",
    "                path: {os.path.basename(nc_train_user_labels_path)}\n",
    "          - type: item\n",
    "            data:\n",
    "              - name: seed_nodes\n",
    "                format: numpy\n",
    "                path: {os.path.basename(nc_train_item_ids_path)}\n",
    "              - name: labels\n",
    "                format: torch\n",
    "                path: {os.path.basename(nc_train_item_labels_path)}\n",
    "        validation_set:\n",
    "          - type: user\n",
    "            data:\n",
    "              - name: seed_nodes\n",
    "                format: numpy\n",
    "                path: {os.path.basename(nc_val_user_ids_path)}\n",
    "              - name: labels\n",
    "                format: torch\n",
    "                path: {os.path.basename(nc_val_user_labels_path)}\n",
    "          - type: item\n",
    "            data:\n",
    "              - name: seed_nodes\n",
    "                format: numpy\n",
    "                path: {os.path.basename(nc_val_item_ids_path)}\n",
    "              - name: labels\n",
    "                format: torch\n",
    "                path: {os.path.basename(nc_val_item_labels_path)}\n",
    "        test_set:\n",
    "          - type: user\n",
    "            data:\n",
    "              - name: seed_nodes\n",
    "                format: numpy\n",
    "                path: {os.path.basename(nc_test_user_ids_path)}\n",
    "              - name: labels\n",
    "                format: torch\n",
    "                path: {os.path.basename(nc_test_user_labels_path)}\n",
    "          - type: item\n",
    "            data:\n",
    "              - name: seed_nodes\n",
    "                format: numpy\n",
    "                path: {os.path.basename(nc_test_item_ids_path)}\n",
    "              - name: labels\n",
    "                format: torch\n",
    "                path: {os.path.basename(nc_test_item_labels_path)}\n",
    "      - name: link_prediction\n",
    "        num_classes: 10\n",
    "        train_set:\n",
    "          - type: \"user:like:item\"\n",
    "            data:\n",
    "              - name: node_pairs\n",
    "                format: numpy\n",
    "                path: {os.path.basename(lp_train_like_node_pairs_path)}\n",
    "          - type: \"user:follow:user\"\n",
    "            data:\n",
    "              - name: node_pairs\n",
    "                format: numpy\n",
    "                path: {os.path.basename(lp_train_follow_node_pairs_path)}\n",
    "        validation_set:\n",
    "          - type: \"user:like:item\"\n",
    "            data:\n",
    "              - name: node_pairs\n",
    "                format: numpy\n",
    "                path: {os.path.basename(lp_val_like_node_pairs_path)}\n",
    "              - name: negative_dsts\n",
    "                format: torch\n",
    "                path: {os.path.basename(lp_val_like_neg_dsts_path)}\n",
    "          - type: \"user:follow:user\"\n",
    "            data:\n",
    "              - name: node_pairs\n",
    "                format: numpy\n",
    "                path: {os.path.basename(lp_val_follow_node_pairs_path)}\n",
    "              - name: negative_dsts\n",
    "                format: torch\n",
    "                path: {os.path.basename(lp_val_follow_neg_dsts_path)}\n",
    "\"\"\"\n",
    "metadata_path = os.path.join(base_dir, \"metadata.yaml\")\n",
    "with open(metadata_path, \"w\") as f:\n",
    "  f.write(yaml_content)"
   ]
  },
  {
   "cell_type": "code",
   "execution_count": 8,
   "id": "985f8d6d-c9f0-486a-be0f-7f5e7618d901",
   "metadata": {},
   "outputs": [
    {
     "name": "stdout",
     "output_type": "stream",
     "text": [
      "The on-disk dataset is re-preprocessing, so the existing preprocessed dataset has been removed.\n",
      "Start to preprocess the on-disk dataset.\n",
      "Finish preprocessing the on-disk dataset.\n",
      "Loaded link prediction task: HeteroItemSet(\n",
      "    itemsets={'user:like:item': ItemSet(\n",
      "                 items=(tensor([[707, 170],\n",
      "                     [614, 564],\n",
      "                     [514, 914],\n",
      "                     ...,\n",
      "                     [  5, 609],\n",
      "                     [563,  50],\n",
      "                     [830, 383]], dtype=torch.int32),),\n",
      "                 names=('node_pairs',),\n",
      "             ), 'user:follow:user': ItemSet(\n",
      "                 items=(tensor([[108, 920],\n",
      "                     [868, 960],\n",
      "                     [ 47, 320],\n",
      "                     ...,\n",
      "                     [596, 313],\n",
      "                     [ 26, 753],\n",
      "                     [539, 335]], dtype=torch.int32),),\n",
      "                 names=('node_pairs',),\n",
      "             )},\n",
      "    names=('node_pairs',),\n",
      ")\n",
      "\n"
     ]
    },
    {
     "name": "stderr",
     "output_type": "stream",
     "text": [
      "/Users/kushaldsouza/miniconda3/envs/dgl/lib/python3.12/site-packages/dgl-2.3-py3.12-macosx-11.0-arm64.egg/dgl/graphbolt/impl/ondisk_dataset.py:460: DGLWarning: Edge feature is stored, but edge IDs are not saved.\n",
      "  dgl_warning(\"Edge feature is stored, but edge IDs are not saved.\")\n"
     ]
    }
   ],
   "source": [
    "dataset = gb.OnDiskDataset(base_dir).load()\n",
    "# graph = dataset.graph\n",
    "# print(f\"Loaded graph: {graph}\\n\")\n",
    "\n",
    "# feature = dataset.feature\n",
    "# print(f\"Loaded feature store: {feature}\\n\")\n",
    "\n",
    "tasks = dataset.tasks\n",
    "lp_task = tasks[1].train_set\n",
    "print(f\"Loaded link prediction task: {lp_task}\\n\")"
   ]
  },
  {
   "cell_type": "code",
   "execution_count": 9,
   "id": "4da51bef-4caa-4acc-86b0-de3bd0992dd4",
   "metadata": {},
   "outputs": [],
   "source": [
    "from dgl import graphbolt as gb\n",
    "item_sampler = gb.ItemSampler(\n",
    "    lp_task, batch_size=5, shuffle=False, drop_last=False\n",
    ")\n",
    "item_sampler = item_sampler.sample_neighbor(dataset.graph, [2])\n",
    "item_sampler = item_sampler.fetch_feature(dataset.feature, node_feature_keys={'user': ['feat_0']})"
   ]
  },
  {
   "cell_type": "code",
   "execution_count": 10,
   "id": "2d4d8608-30f1-462c-846e-f6833a311018",
   "metadata": {},
   "outputs": [
    {
     "name": "stderr",
     "output_type": "stream",
     "text": [
      "/Users/kushaldsouza/miniconda3/envs/dgl/lib/python3.12/site-packages/dgl-2.3-py3.12-macosx-11.0-arm64.egg/dgl/graphbolt/item_sampler.py:94: DGLWarning: Unknown item name 'node_pairs' is detected and added into `MiniBatch`. You probably need to provide a customized `MiniBatcher`.\n",
      "  dgl_warning(\n"
     ]
    }
   ],
   "source": [
    "test = next(iter(item_sampler))"
   ]
  },
  {
   "cell_type": "code",
   "execution_count": 11,
   "id": "4d3a7b21-76ae-4df2-a45c-7770368c1bbd",
   "metadata": {},
   "outputs": [
    {
     "name": "stdout",
     "output_type": "stream",
     "text": [
      "MiniBatch(seeds={'user:like:item': tensor([[707, 170],\n",
      "                        [614, 564],\n",
      "                        [514, 914],\n",
      "                        [123,  60],\n",
      "                        [ 67,  26]], dtype=torch.int32)},\n",
      "          sampled_subgraphs=[SampledSubgraphImpl(sampled_csc={'user:follow:user': CSCFormatBase(indptr=tensor([ 0,  2,  4,  6,  8, 10], dtype=torch.int32),\n",
      "                                                                         indices=tensor([ 5,  6,  7,  8,  9, 10, 11, 12, 13, 14], dtype=torch.int32),\n",
      "                                                           ), 'user:like:item': CSCFormatBase(indptr=tensor([ 0,  2,  4,  6,  8, 10], dtype=torch.int32),\n",
      "                                                                         indices=tensor([15, 16, 17, 18, 19,  2, 20, 21,  4, 22], dtype=torch.int32),\n",
      "                                                           )},\n",
      "                                               original_row_node_ids={'user': tensor([707, 614, 514, 123,  67, 328,  43, 435, 725, 117, 740, 126,  12, 193,\n",
      "                                                                             439, 743, 873, 400, 437, 909, 390, 992, 150], dtype=torch.int32)},\n",
      "                                               original_edge_ids=None,\n",
      "                                               original_column_node_ids={'item': tensor([170, 564, 914,  60,  26], dtype=torch.int32), 'user': tensor([707, 614, 514, 123,  67], dtype=torch.int32)},\n",
      "                            )],\n",
      "          node_features={('user', 'feat_0'): tensor([[0.5245, 0.1823, 0.2468, 0.7821, 0.3342],\n",
      "                                [0.0222, 0.9701, 0.7683, 0.4996, 0.2619],\n",
      "                                [0.3852, 0.7664, 0.5192, 0.9847, 0.9463],\n",
      "                                [0.8212, 0.2607, 0.9068, 0.2974, 0.4825],\n",
      "                                [0.0979, 0.8444, 0.0522, 0.4421, 0.3260],\n",
      "                                [0.7471, 0.8340, 0.9838, 0.5477, 0.0117],\n",
      "                                [0.1698, 0.8340, 0.2210, 0.9567, 0.8182],\n",
      "                                [0.6433, 0.6883, 0.5140, 0.8913, 0.0814],\n",
      "                                [0.7711, 0.4179, 0.0606, 0.2933, 0.3160],\n",
      "                                [0.0227, 0.6941, 0.6215, 0.2782, 0.2883],\n",
      "                                [0.0324, 0.7015, 0.3575, 0.9639, 0.8025],\n",
      "                                [0.5595, 0.6180, 0.0609, 0.4996, 0.6857],\n",
      "                                [0.6662, 0.1512, 0.8754, 0.0339, 0.7287],\n",
      "                                [0.9867, 0.7300, 0.5511, 0.4484, 0.0463],\n",
      "                                [0.6793, 0.3301, 0.0117, 0.2062, 0.4763],\n",
      "                                [0.7428, 0.2949, 0.5083, 0.9914, 0.3643],\n",
      "                                [0.7559, 0.3118, 0.8484, 0.1990, 0.1796],\n",
      "                                [0.8195, 0.0095, 0.8573, 0.0434, 0.2265],\n",
      "                                [0.1220, 0.9216, 0.1129, 0.4668, 0.3658],\n",
      "                                [0.1290, 0.0423, 0.0460, 0.3163, 0.3260],\n",
      "                                [0.5634, 0.2460, 0.4073, 0.2317, 0.1600],\n",
      "                                [0.3086, 0.3296, 0.1222, 0.9167, 0.3071],\n",
      "                                [0.5942, 0.9101, 0.5518, 0.7357, 0.0586]], dtype=torch.float64)},\n",
      "          labels=None,\n",
      "          input_nodes={'user': tensor([707, 614, 514, 123,  67, 328,  43, 435, 725, 117, 740, 126,  12, 193,\n",
      "                              439, 743, 873, 400, 437, 909, 390, 992, 150], dtype=torch.int32)},\n",
      "          indexes=None,\n",
      "          edge_features=[{}],\n",
      "          compacted_seeds={'user:like:item': tensor([[0, 0],\n",
      "                                  [1, 1],\n",
      "                                  [2, 2],\n",
      "                                  [3, 3],\n",
      "                                  [4, 4]], dtype=torch.int32)},\n",
      "          blocks=[Block(num_src_nodes={'item': 0, 'user': 23},\n",
      "                       num_dst_nodes={'item': 5, 'user': 5},\n",
      "                       num_edges={('user', 'follow', 'user'): 10, ('user', 'like', 'item'): 10},\n",
      "                       metagraph=[('user', 'user', 'follow'), ('user', 'item', 'like')])],\n",
      "       )\n"
     ]
    }
   ],
   "source": [
    "print(test)"
   ]
  },
  {
   "cell_type": "code",
   "execution_count": 14,
   "id": "06f1c92d-5843-4033-befa-b11ee6652d14",
   "metadata": {},
   "outputs": [
    {
     "data": {
      "text/plain": [
       "['item', 'user', 'item', 'user']"
      ]
     },
     "execution_count": 14,
     "metadata": {},
     "output_type": "execute_result"
    }
   ],
   "source": [
    "test.blocks[0].ntypes"
   ]
  },
  {
   "cell_type": "code",
   "execution_count": null,
   "id": "cfc0ce4d-f1fd-424a-b422-46dc4e6cbdab",
   "metadata": {},
   "outputs": [],
   "source": [
    "compacted_seeds = test.compacted_seeds['user:like:item'].T"
   ]
  },
  {
   "cell_type": "code",
   "execution_count": null,
   "id": "1fb8b962-dada-419b-9fac-98b9149d8a2a",
   "metadata": {},
   "outputs": [],
   "source": [
    "compacted_seeds[0]"
   ]
  },
  {
   "cell_type": "code",
   "execution_count": null,
   "id": "bc7365b9-4f7c-4945-8941-aa8f4660dd62",
   "metadata": {},
   "outputs": [],
   "source": [
    "compacted_seeds[1]"
   ]
  },
  {
   "cell_type": "code",
   "execution_count": null,
   "id": "2b4b929b-4f4a-41f8-bf40-6927577fcdb6",
   "metadata": {},
   "outputs": [],
   "source": [
    "compacted_seeds[0] * compacted_seeds[1]"
   ]
  },
  {
   "cell_type": "code",
   "execution_count": null,
   "id": "b029280f-bb29-44a6-8f78-a61eb7805f21",
   "metadata": {},
   "outputs": [],
   "source": [
    "import dgl\n",
    "import torch as th\n",
    "\n",
    "graph_data = {\n",
    "   ('drug', 'interacts', 'drug'): (th.tensor([0, 1]), th.tensor([1, 2])),\n",
    "   ('drug', 'interacts', 'gene'): (th.tensor([0, 1]), th.tensor([2, 3])),\n",
    "   ('drug', 'treats', 'disease'): (th.tensor([1]), th.tensor([2]))\n",
    "}\n",
    "g = dgl.heterograph(graph_data)"
   ]
  },
  {
   "cell_type": "code",
   "execution_count": null,
   "id": "62336fe8-8abc-4ba7-bfb8-2289834d6a4e",
   "metadata": {},
   "outputs": [],
   "source": [
    "g.edges(etype=('drug', 'interacts', 'drug'))"
   ]
  },
  {
   "cell_type": "code",
   "execution_count": null,
   "id": "0112542c-9603-44bf-b8ad-1e4ffea98521",
   "metadata": {},
   "outputs": [],
   "source": [
    "g.edges['drug', 'interacts', 'drug']"
   ]
  },
  {
   "cell_type": "markdown",
   "id": "6ce89dfd-3c06-4a30-b7db-b9ad57ac3589",
   "metadata": {},
   "source": [
    "Out of the 98 million rows in the data, only 0.54% have bindings, I want to use a margin loss, and construct two graphs, one with positive bindings and one with negative bindings. Given that my dataset has 3 proteins for each molecule to bind against and within the dataset, each molecule is repeated 3 times in three rows, where each row represents binding with one protein block, how can I modify the following code so that I go through the file and first restrict the data to only those molecules that bind with at least one protein. After this I want to group by molecules and split into train, test and validation sets. Finally I want to construct a positive and negative graph for the train, test and validation sets, where for each molecule, the positive graph has a binding and the corresponding negative graph has the same node id with a binding for the protein to which it does not bind against. \n",
    "\n"
   ]
  },
  {
   "cell_type": "code",
   "execution_count": 16,
   "id": "870c9dfc-e93c-4ed6-bfaf-5786b792c445",
   "metadata": {},
   "outputs": [],
   "source": [
    "a = torch.rand(3,2)\n",
    "b = torch.rand(1, 3)"
   ]
  },
  {
   "cell_type": "code",
   "execution_count": 18,
   "id": "8b88152b-abce-4e6e-b659-0699e8a7b4a1",
   "metadata": {},
   "outputs": [
    {
     "data": {
      "text/plain": [
       "False"
      ]
     },
     "execution_count": 18,
     "metadata": {},
     "output_type": "execute_result"
    }
   ],
   "source": [
    "b.shape > a.shape"
   ]
  },
  {
   "cell_type": "code",
   "execution_count": 19,
   "id": "f9f94aad-b859-4e73-be74-3d6a50b7c57d",
   "metadata": {},
   "outputs": [
    {
     "data": {
      "text/plain": [
       "[3, 2]"
      ]
     },
     "execution_count": 19,
     "metadata": {},
     "output_type": "execute_result"
    }
   ],
   "source": [
    "list (a.shape)\n"
   ]
  },
  {
   "cell_type": "code",
   "execution_count": 20,
   "id": "670f579e-7428-4b8b-9244-5e283741fbac",
   "metadata": {},
   "outputs": [
    {
     "data": {
      "text/plain": [
       "[1, 3]"
      ]
     },
     "execution_count": 20,
     "metadata": {},
     "output_type": "execute_result"
    }
   ],
   "source": [
    "list(b.shape)"
   ]
  },
  {
   "cell_type": "code",
   "execution_count": 23,
   "id": "e75e155d-2c57-4388-b806-b4e108cbf6c2",
   "metadata": {},
   "outputs": [
    {
     "name": "stdout",
     "output_type": "stream",
     "text": [
      "torch.Size([4, 2])\n"
     ]
    }
   ],
   "source": [
    "a = torch.rand(4, 2)\n",
    "print(a.shape)"
   ]
  },
  {
   "cell_type": "code",
   "execution_count": 24,
   "id": "ebf5a211-b829-4021-911b-28ef79d0a521",
   "metadata": {},
   "outputs": [],
   "source": [
    "from torch.nn.functional import pad"
   ]
  },
  {
   "cell_type": "code",
   "execution_count": 25,
   "id": "51e0cf76-77e1-4dca-832b-911f9b4c020a",
   "metadata": {},
   "outputs": [
    {
     "name": "stdout",
     "output_type": "stream",
     "text": [
      "tensor([[0.8824, 0.4688],\n",
      "        [0.7484, 0.8062],\n",
      "        [0.7821, 0.9220],\n",
      "        [0.6811, 0.0371]])\n"
     ]
    }
   ],
   "source": [
    "print(a)"
   ]
  },
  {
   "cell_type": "code",
   "execution_count": 33,
   "id": "d503d8f9-1ddd-411a-83c6-8bcef6e223be",
   "metadata": {},
   "outputs": [],
   "source": [
    "b = pad(a, [0,0,2,1], \"constant\", 3)"
   ]
  },
  {
   "cell_type": "code",
   "execution_count": 34,
   "id": "4e911830-0ed2-4a02-9f77-f5d30e1ce997",
   "metadata": {},
   "outputs": [
    {
     "name": "stdout",
     "output_type": "stream",
     "text": [
      "tensor([[3.0000, 3.0000],\n",
      "        [3.0000, 3.0000],\n",
      "        [0.8824, 0.4688],\n",
      "        [0.7484, 0.8062],\n",
      "        [0.7821, 0.9220],\n",
      "        [0.6811, 0.0371],\n",
      "        [3.0000, 3.0000]])\n"
     ]
    }
   ],
   "source": [
    "print(b)"
   ]
  },
  {
   "cell_type": "code",
   "execution_count": 35,
   "id": "3c59c1bb-6950-4f9a-bf4b-7133fe496d19",
   "metadata": {},
   "outputs": [
    {
     "data": {
      "text/plain": [
       "torch.Size([7, 2])"
      ]
     },
     "execution_count": 35,
     "metadata": {},
     "output_type": "execute_result"
    }
   ],
   "source": [
    "b.shape"
   ]
  },
  {
   "cell_type": "code",
   "execution_count": 39,
   "id": "25351285-6322-4906-a41d-e3211723fb8d",
   "metadata": {},
   "outputs": [
    {
     "data": {
      "text/plain": [
       "1.5"
      ]
     },
     "execution_count": 39,
     "metadata": {},
     "output_type": "execute_result"
    }
   ],
   "source": [
    "3/2"
   ]
  },
  {
   "cell_type": "code",
   "execution_count": null,
   "id": "c4311888-8e6d-400c-b49d-f6a518a5a9b6",
   "metadata": {},
   "outputs": [],
   "source": []
  }
 ],
 "metadata": {
  "kernelspec": {
   "display_name": "Python 3 (ipykernel)",
   "language": "python",
   "name": "python3"
  },
  "language_info": {
   "codemirror_mode": {
    "name": "ipython",
    "version": 3
   },
   "file_extension": ".py",
   "mimetype": "text/x-python",
   "name": "python",
   "nbconvert_exporter": "python",
   "pygments_lexer": "ipython3",
   "version": "3.12.2"
  }
 },
 "nbformat": 4,
 "nbformat_minor": 5
}
